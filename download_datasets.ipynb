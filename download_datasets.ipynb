{
  "nbformat": 4,
  "nbformat_minor": 0,
  "metadata": {
    "colab": {
      "provenance": [],
      "authorship_tag": "ABX9TyNV1P0N0PcoeitsIAYzgqs2",
      "include_colab_link": true
    },
    "kernelspec": {
      "name": "python3",
      "display_name": "Python 3"
    },
    "language_info": {
      "name": "python"
    }
  },
  "cells": [
    {
      "cell_type": "markdown",
      "metadata": {
        "id": "view-in-github",
        "colab_type": "text"
      },
      "source": [
        "<a href=\"https://colab.research.google.com/github/lucyvost/distorted_diffusion/blob/main/download_datasets.ipynb\" target=\"_parent\"><img src=\"https://colab.research.google.com/assets/colab-badge.svg\" alt=\"Open In Colab\"/></a>"
      ]
    },
    {
      "cell_type": "markdown",
      "source": [
        "Code for downloading and preprocessing each of the three datasets our method is tested on. For GEOM and QM9, these follow the exact same method as in the EDM repo (see README).\n"
      ],
      "metadata": {
        "id": "ri85a5mMlxoT"
      }
    },
    {
      "cell_type": "markdown",
      "source": [
        "QM9"
      ],
      "metadata": {
        "id": "1MYyb31OlsB2"
      }
    },
    {
      "cell_type": "code",
      "source": [],
      "metadata": {
        "id": "ACrkHStSlqta"
      },
      "execution_count": null,
      "outputs": []
    }
  ]
}