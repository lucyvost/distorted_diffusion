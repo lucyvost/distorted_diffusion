{
  "nbformat": 4,
  "nbformat_minor": 0,
  "metadata": {
    "colab": {
      "provenance": [],
      "authorship_tag": "ABX9TyNPchoqxAJHfnaJzmpXaiR9",
      "include_colab_link": true
    },
    "kernelspec": {
      "name": "python3",
      "display_name": "Python 3"
    },
    "language_info": {
      "name": "python"
    }
  },
  "cells": [
    {
      "cell_type": "markdown",
      "metadata": {
        "id": "view-in-github",
        "colab_type": "text"
      },
      "source": [
        "<a href=\"https://colab.research.google.com/github/lucyvost/distorted_diffusion/blob/main/download_datasets.ipynb\" target=\"_parent\"><img src=\"https://colab.research.google.com/assets/colab-badge.svg\" alt=\"Open In Colab\"/></a>"
      ]
    },
    {
      "cell_type": "markdown",
      "source": [
        "Code for downloading and preprocessing each of the three datasets our method is tested on. For GEOM and QM9, these follow the exact same method as in the EDM repo (see README).\n"
      ],
      "metadata": {
        "id": "ri85a5mMlxoT"
      }
    },
    {
      "cell_type": "markdown",
      "source": [
        "QM9"
      ],
      "metadata": {
        "id": "1MYyb31OlsB2"
      }
    },
    {
      "cell_type": "code",
      "source": [
        "! git clone https://github.com/ehoogeboom/e3_diffusion_for_molecules.git"
      ],
      "metadata": {
        "id": "fJ7uwrllpOtN"
      },
      "execution_count": null,
      "outputs": []
    },
    {
      "cell_type": "code",
      "source": [
        "import sys\n",
        "import os\n",
        "repo_path = \"e3_diffusion_for_molecules\"\n",
        "sys.path.append(repo_path)\n",
        "from qm9.data.prepare.qm9 import download_dataset_qm9\n",
        "\n",
        "# Set up dataset directory\n",
        "datadir = os.path.join(repo_path, \"data\")\n",
        "dataname = \"qm9\"\n",
        "\n",
        "# Download and preprocess the QM9 dataset\n",
        "download_dataset_qm9(datadir, dataname,calculate_thermo=False)"
      ],
      "metadata": {
        "id": "ACrkHStSlqta"
      },
      "execution_count": 9,
      "outputs": []
    },
    {
      "cell_type": "markdown",
      "source": [
        "GEOM-drugs"
      ],
      "metadata": {
        "id": "v65byV3Ql_Qi"
      }
    },
    {
      "cell_type": "code",
      "source": [
        "! wget https://dataverse.harvard.edu/api/access/datafile/4360331\n",
        "! tar -xzvf 4360331\n",
        "! pip install msgpack\n",
        "\n",
        "\n"
      ],
      "metadata": {
        "id": "B0agJXBnmAxJ"
      },
      "execution_count": null,
      "outputs": []
    },
    {
      "cell_type": "markdown",
      "source": [
        "ZINC"
      ],
      "metadata": {
        "id": "2hQMnQ1BmBFg"
      }
    },
    {
      "cell_type": "code",
      "source": [
        "! wget https://zenodo.org/records/14825440/files/zinc_dataset.tar.gz\n",
        "! mkdir zinc\n",
        "! tar -xzvf zinc_dataset.tar.gz -C zinc/"
      ],
      "metadata": {
        "colab": {
          "base_uri": "https://localhost:8080/"
        },
        "id": "Sc3scK8mmB5V",
        "outputId": "8fdd185f-b988-400c-b1b9-c4843f2d0604"
      },
      "execution_count": 4,
      "outputs": [
        {
          "output_type": "stream",
          "name": "stdout",
          "text": [
            "--2025-02-06 18:53:22--  https://zenodo.org/records/14825440/files/zinc_dataset.tar.gz\n",
            "Resolving zenodo.org (zenodo.org)... 188.185.48.194, 188.185.45.92, 188.185.43.25, ...\n",
            "Connecting to zenodo.org (zenodo.org)|188.185.48.194|:443... connected.\n",
            "HTTP request sent, awaiting response... 200 OK\n",
            "Length: 2757261285 (2.6G) [application/octet-stream]\n",
            "Saving to: ‘zinc_dataset.tar.gz.1’\n",
            "\n",
            "zinc_dataset.tar.gz 100%[===================>]   2.57G  66.9MB/s    in 46s     \n",
            "\n",
            "2025-02-06 18:54:07 (57.7 MB/s) - ‘zinc_dataset.tar.gz.1’ saved [2757261285/2757261285]\n",
            "\n",
            "split.npz\n",
            "test.npz\n",
            "train.npz\n",
            "valid.npz\n"
          ]
        }
      ]
    },
    {
      "cell_type": "code",
      "source": [],
      "metadata": {
        "id": "F1gYxTxYoHNJ"
      },
      "execution_count": null,
      "outputs": []
    }
  ]
}